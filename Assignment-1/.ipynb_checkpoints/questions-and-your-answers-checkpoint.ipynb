{
 "cells": [
  {
   "cell_type": "markdown",
   "metadata": {},
   "source": [
    "# ECE531 Computer Vision Assignment 1 \n",
    "08/10/2020, Abdullah Gul University\n",
    "### Name: ???Fill this???\n",
    "\n",
    "* Use or convert to grayscale images to answer the following questions.\n",
    "* Do not use the preinstalled library functions such as histeq, linearBlend() etc. unless otherwise stated in the question. You can use preliminary libraries such as numpy, loading an image into a matrix etc."
   ]
  },
  {
   "cell_type": "markdown",
   "metadata": {},
   "source": [
    "## Question 1\n",
    "Given that $r$ and $s$ are random variables with relation $s=T(r)$, show that \n",
    "$$ \\Large p_s(s) = \\frac{p_r(r)}{ \\left| \\frac{dT(r)}{dr}\\right| } $$ "
   ]
  },
  {
   "cell_type": "markdown",
   "metadata": {},
   "source": [
    "## Answer 1"
   ]
  },
  {
   "cell_type": "markdown",
   "metadata": {},
   "source": [
    "(Use $\\LaTeX$ to answer the question here. Do not upload a separate image for your answer.)"
   ]
  },
  {
   "cell_type": "markdown",
   "metadata": {},
   "source": [
    "## Question 2 Scalar Contrast and Brightness\n",
    "Implement a pixel transformation function $g(x)=af(x) + b$ where $a$ and $b$ are scalars. Apply this to \"dog\" image with $a=1.5$,$b=20$. Pixel range should be in $[0,255]$ range. Do not forget to trim the pixel in $[0, 255]$ range if the pixel value exceeds 255 (saturates).    \n",
    "Show the output image."
   ]
  },
  {
   "cell_type": "markdown",
   "metadata": {},
   "source": [
    "## Answer 2"
   ]
  },
  {
   "cell_type": "code",
   "execution_count": 1,
   "metadata": {},
   "outputs": [],
   "source": [
    "a=1.5\n",
    "b=20"
   ]
  },
  {
   "cell_type": "markdown",
   "metadata": {},
   "source": [
    "## Question 3 Variable Contrast and Brightness\n",
    "Implement a pixel transformation function $g(x)=a(x)f(x) + b(x)$ where $a$ and $b$ are functions of $x$. Apply this to \"dog\" image to get a vignetting effect. The strength percentage of vignetting effect will be determined by a variable v. v=100 means full vignetting (black image), v=0 means no vignetting. Pixel range should be in $[0,255]$ range. Do not forget to trim the pixel in $[0, 255]$ range if the pixel value exceeds 255 (saturates). Apply it to cat image.    \n",
    "Show the output image."
   ]
  },
  {
   "cell_type": "markdown",
   "metadata": {},
   "source": [
    "## Answer 3"
   ]
  },
  {
   "cell_type": "code",
   "execution_count": 2,
   "metadata": {},
   "outputs": [],
   "source": [
    "v=50"
   ]
  },
  {
   "cell_type": "markdown",
   "metadata": {},
   "source": [
    "## Question 4 Global Histogram Equalization\n",
    "Implement a global histogram equalization function with 255 bins. (do not use any histogram equalization libraries. Implement it on your own. That is, count the pixels etc.). Apply it to village picture.   \n",
    "Show the output image."
   ]
  },
  {
   "cell_type": "markdown",
   "metadata": {},
   "source": [
    "## Answer 4"
   ]
  },
  {
   "cell_type": "markdown",
   "metadata": {},
   "source": [
    "## Question 5 Local Histogram Equalization\n",
    "Implement a **local** histogram equalization function with 255 bins and variable window size **w**. For example, if w=10, apply it to 10x10 regions.  (do not use any histogram equalization libraries. Implement it on your own. That is, count the pixels etc.). Apply it to village picture.   \n",
    "Show the output image."
   ]
  },
  {
   "cell_type": "markdown",
   "metadata": {},
   "source": [
    "## Answer 5"
   ]
  },
  {
   "cell_type": "code",
   "execution_count": null,
   "metadata": {},
   "outputs": [],
   "source": []
  },
  {
   "cell_type": "markdown",
   "metadata": {},
   "source": [
    "## Question 6 CLAHE\n",
    "In this part, you can use the preinstalled libraries.    \n",
    "Take a photo of your room. Make sure that the photo contains both dark and bright parts at the same time, such as inside of room and outside of the window.    \n",
    "a) Show the room photo   \n",
    "b) Plot histogram and cumulative histogram of the photo.   \n",
    "c) Apply CLAHE to your room image and show the result.  (do not forget to commit your room photo to github.)"
   ]
  },
  {
   "cell_type": "markdown",
   "metadata": {},
   "source": [
    "## Answer 6 "
   ]
  },
  {
   "cell_type": "code",
   "execution_count": null,
   "metadata": {},
   "outputs": [],
   "source": []
  }
 ],
 "metadata": {
  "kernelspec": {
   "display_name": "Python 3 (ipykernel)",
   "language": "python",
   "name": "python3"
  },
  "language_info": {
   "codemirror_mode": {
    "name": "ipython",
    "version": 3
   },
   "file_extension": ".py",
   "mimetype": "text/x-python",
   "name": "python",
   "nbconvert_exporter": "python",
   "pygments_lexer": "ipython3",
   "version": "3.8.12"
  }
 },
 "nbformat": 4,
 "nbformat_minor": 4
}
