{
 "cells": [
  {
   "cell_type": "markdown",
   "metadata": {},
   "source": [
    "# ECE531 Computer Vision Assignment 1 \n",
    "08/10/2020, Abdullah Gul University\n",
    "\n",
    "* Use or convert to grayscale images to answer the following questions.\n",
    "* Do not use the preinstalled library functions such as histeq, linearBlend() etc. unless otherwise stated in the question. You can use preliminary libraries such as numpy, loading an image into a matrix etc."
   ]
  },
  {
   "cell_type": "code",
   "execution_count": null,
   "metadata": {},
   "outputs": [],
   "source": [
    "import cv2 as cv\n",
    "import numpy as np\n",
    "import matplotlib.pyplot as plt\n",
    "from matplotlib import rcParams\n",
    "import os\n",
    "\n",
    "import skimage.morphology as morp\n",
    "from skimage.filters import rank"
   ]
  },
  {
   "cell_type": "code",
   "execution_count": null,
   "metadata": {},
   "outputs": [],
   "source": [
    "images_path = os.getcwd() + \"\\sample_images\""
   ]
  },
  {
   "cell_type": "markdown",
   "metadata": {},
   "source": [
    "## Question 1\n",
    "Given that $r$ and $s$ are random variables with relation $s=T(r)$, show that \n",
    "$$ \\Large p_s(s) = \\frac{p_r(r)}{ \\left| \\frac{dT(r)}{dr}\\right| } $$ "
   ]
  },
  {
   "cell_type": "markdown",
   "metadata": {},
   "source": [
    "## Answer 1"
   ]
  },
  {
   "cell_type": "markdown",
   "metadata": {},
   "source": [
    "(Use $\\LaTeX$ to answer the question here. Do not upload a separate image for your answer.)"
   ]
  },
  {
   "cell_type": "markdown",
   "metadata": {},
   "source": [
    "## Question 2 Scalar Contrast and Brightness\n",
    "Implement a pixel transformation function $g(x)=af(x) + b$ where $a$ and $b$ are scalars. Apply this to \"dog\" image with $a=1.5$,$b=20$. Pixel range should be in $[0,255]$ range. Do not forget to trim the pixel in $[0, 255]$ range if the pixel value exceeds 255 (saturates).    \n",
    "Show the output image."
   ]
  },
  {
   "cell_type": "markdown",
   "metadata": {},
   "source": [
    "## Answer 2"
   ]
  },
  {
   "cell_type": "code",
   "execution_count": null,
   "metadata": {},
   "outputs": [],
   "source": [
    "a=1.5\n",
    "b=20\n",
    "# Read image in gray scale\n",
    "dog_img = cv.imread(images_path + \"\\dog.jpg\", cv.IMREAD_GRAYSCALE)\n",
    "\n",
    "#Set figure size\n",
    "rcParams[\"figure.figsize\"] = 5.0, 5.0\n",
    "\n",
    "plt.figure()\n",
    "plt.title(\"Dog Before\")\n",
    "plt.imshow(dog_img, cmap=\"gray\")\n",
    "\n",
    "#Define height and width of image\n",
    "h, w= dog_img.shape\n",
    "\n",
    "print(f\"Image height is {h}\")\n",
    "print(f\"Image weigt is {w}\")\n",
    "\n",
    "#Implementation of function\n",
    "#Takes each image, put it to function\n",
    "for i in range(0,h):\n",
    "    for j in range(0,w):\n",
    "        result = a*(dog_img[i][j])+b\n",
    "        if result > 255:\n",
    "            dog_img[i][j] = 255\n",
    "        else:\n",
    "            dog_img[i][j]=result\n",
    "            \n",
    "plt.figure()\n",
    "plt.title(\"Dog After\")\n",
    "plt.imshow(dog_img, cmap=\"gray\")"
   ]
  },
  {
   "cell_type": "markdown",
   "metadata": {},
   "source": [
    "## Question 3 Variable Contrast and Brightness\n",
    "Implement a pixel transformation function $g(x)=a(x)f(x) + b(x)$ where $a$ and $b$ are functions of $x$. Apply this to \"dog\" image to get a vignetting effect. The strength percentage of vignetting effect will be determined by a variable v. v=100 means full vignetting (black image), v=0 means no vignetting. Pixel range should be in $[0,255]$ range. Do not forget to trim the pixel in $[0, 255]$ range if the pixel value exceeds 255 (saturates). Apply it to cat image.    \n",
    "Show the output image."
   ]
  },
  {
   "cell_type": "markdown",
   "metadata": {},
   "source": [
    "## Answer 3"
   ]
  },
  {
   "cell_type": "code",
   "execution_count": null,
   "metadata": {},
   "outputs": [],
   "source": [
    "V=50\n",
    "\n",
    "# Read image in gray scale\n",
    "cat_img = cv.imread(images_path + \"\\cat.jpg\", cv.IMREAD_GRAYSCALE)\n",
    "\n",
    "#Set figure size\n",
    "rcParams[\"figure.figsize\"] = 5.0, 5.0\n",
    "\n",
    "plt.figure()\n",
    "plt.title(\"Cat Before\")\n",
    "plt.imshow(cat_img, cmap=\"gray\")\n",
    "\n",
    "#Define height and width of image\n",
    "rows, cols= dog_img.shape\n",
    "\n",
    "print(f\"Image height is {cols}\")\n",
    "print(f\"Image weigt is {rows}\")\n",
    "\n",
    "kernel_x = cv.getGaussianKernel(cols,V)\n",
    "kernel_y = cv.getGaussianKernel(rows,V)\n",
    "\n",
    "print(kernel_x.shape)\n",
    "print(kernel_y.shape)\n",
    "# rows x cols\n",
    "kernel = kernel_y * kernel_x.T\n",
    "\n",
    "kernel = kernel/np.linalg.norm(kernel)\n",
    "mask = 255*kernel\n",
    "\n",
    "output = np.copy(cat_img) * mask \n",
    "\n",
    "plt.figure()\n",
    "plt.title(\"Vignetting-Affect\")\n",
    "plt.imshow(output, cmap=\"gray\")\n"
   ]
  },
  {
   "cell_type": "markdown",
   "metadata": {},
   "source": [
    "## Question 4 Global Histogram Equalization\n",
    "Implement a global histogram equalization function with 255 bins. (do not use any histogram equalization libraries. Implement it on your own. That is, count the pixels etc.). Apply it to village picture.   \n",
    "Show the output image."
   ]
  },
  {
   "cell_type": "markdown",
   "metadata": {},
   "source": [
    "## Answer 4"
   ]
  },
  {
   "cell_type": "code",
   "execution_count": null,
   "metadata": {},
   "outputs": [],
   "source": [
    "def global_hist_equ(gray_img):\n",
    "    \"\"\"\n",
    "    This function work for gray image need update to\n",
    "    \"\"\"\n",
    "    img_array = np.asarray(gray_img)\n",
    "    ############\n",
    "    ###STEP-1### --> Normalized cumulative histogram\n",
    "    ############\n",
    "    \n",
    "    #Calculating histogram via binning\n",
    "    histogram_array = np.bincount(img_array.flatten(), minlength=256)\n",
    "    #Normalize\n",
    "    num_pixels = np.sum(histogram_array)\n",
    "    #plt.plot(histogram_array)\n",
    "    histogram_array = histogram_array/num_pixels\n",
    "    #Normalized cumulative histogram\n",
    "    chistogram_array = np.cumsum(histogram_array)\n",
    "    ############\n",
    "    ###STEP-2### --> Pixel Mapping\n",
    "    ############ \n",
    "    \n",
    "    transform_map = np.floor(255*chistogram_array).astype(np.uint8)\n",
    "    \n",
    "    ############\n",
    "    ###STEP-3### --> Transformation\n",
    "    ############\n",
    "    \n",
    "    #Flatten img array into 1D list\n",
    "    img_list = list(img_array.flatten())\n",
    "    \n",
    "    #Transform pixel value to equalize\n",
    "    output_list = [transform_map[i] for i in img_list]\n",
    "    \n",
    "    #Reshape and Output array\n",
    "    output = np.reshape(np.asarray(output_list), img_array.shape)\n",
    "    return output\n",
    "\n",
    "#Read image\n",
    "village = cv.imread(images_path + \"\\\\village.jpg\")\n",
    "village_gray = cv.cvtColor(village, cv.COLOR_BGR2GRAY)\n",
    "\n",
    "print(f\"Shape of image {village_gray.shape}\")\n",
    "\n",
    "#---------Calling function here---------------#\n",
    "village_output = global_hist_equ(village_gray)\n",
    "#-------Calling OpenCv func. here-------------#\n",
    "openCV_output = cv.equalizeHist(village_gray)\n",
    "\n",
    "#-----------------PLOTTING--------------------#\n",
    "rcParams[\"figure.figsize\"] = 20.0, 20.0\n",
    "fig = plt.figure()\n",
    "\n",
    "a=fig.add_subplot(1,3,1)\n",
    "plt.imshow(village_gray, cmap=\"gray\")\n",
    "a.set_title('Original Image')\n",
    "\n",
    "a=fig.add_subplot(1,3,2)\n",
    "plt.imshow(village_output, cmap=\"gray\")\n",
    "a.set_title('Written Func. Histogram Village Image')\n",
    "\n",
    "a=fig.add_subplot(1,3,3)\n",
    "plt.imshow(openCV_output, cmap=\"gray\")\n",
    "a.set_title('OpenCV Histogram Village Image')"
   ]
  },
  {
   "cell_type": "markdown",
   "metadata": {},
   "source": [
    "## Question 5 Local Histogram Equalization\n",
    "Implement a **local** histogram equalization function with 255 bins and variable window size **w**. For example, if w=10, apply it to 10x10 regions.  (do not use any histogram equalization libraries. Implement it on your own. That is, count the pixels etc.). Apply it to village picture.   \n",
    "Show the output image."
   ]
  },
  {
   "cell_type": "markdown",
   "metadata": {},
   "source": [
    "## Answer 5"
   ]
  },
  {
   "cell_type": "code",
   "execution_count": null,
   "metadata": {},
   "outputs": [],
   "source": [
    "def global_hist_equ(gray_img):\n",
    "    \"\"\"\n",
    "    This function work for gray image need update to\n",
    "    \"\"\"\n",
    "    img_array = np.asarray(gray_img)\n",
    "    ############\n",
    "    ###STEP-1### --> Normalized cumulative histogram\n",
    "    ############\n",
    "    \n",
    "    #Calculating histogram via binning\n",
    "    histogram_array = np.bincount(img_array.flatten(), minlength=256)\n",
    "    #Normalize\n",
    "    num_pixels = np.sum(histogram_array)\n",
    "    histogram_array = histogram_array/num_pixels\n",
    "    #Normalized cumulative histogram\n",
    "    chistogram_array = np.cumsum(histogram_array)\n",
    "    \n",
    "    ############\n",
    "    ###STEP-2### --> Pixel Mapping\n",
    "    ############ \n",
    "    \n",
    "    transform_map = np.floor(255*chistogram_array).astype(np.uint8)\n",
    "    \n",
    "    ############\n",
    "    ###STEP-3### --> Transformation\n",
    "    ############\n",
    "    \n",
    "    #Flatten img array into 1D list\n",
    "    img_list = list(img_array.flatten())\n",
    "    \n",
    "    #Transform pixel value to equalize\n",
    "    output_list = [transform_map[i] for i in img_list]\n",
    "    \n",
    "    #Reshape and Output array\n",
    "    output = np.reshape(np.asarray(output_list), img_array.shape)\n",
    "    \n",
    "    return output\n",
    "\n",
    "village = cv.imread(images_path + \"\\\\village.jpg\")\n",
    "village_gray = cv.cvtColor(village, cv.COLOR_BGR2GRAY)\n",
    "\n",
    "print(f\"Shape of image {village_gray.shape}\")\n",
    "\n",
    "#--------Call Ski-image Local Hist. Equ.------#\n",
    "kernel = morp.disk(10)\n",
    "ski_img_local = rank.equalize(village_gray, selem=kernel)\n",
    "\n",
    "#Define starting kernel size\n",
    "w=10\n",
    "\n",
    "#Create blank image \n",
    "blank_img = np.zeros(village_gray.shape[:2], dtype='uint8')\n",
    "\n",
    "#-------------Iterating on image--------------#\n",
    "for x in range(0,village_gray.shape[1]):\n",
    "    for y in range(0,village_gray.shape[0]):\n",
    "        #Takes crop of image and put into the hist. equ. function\n",
    "        blank_img[y:y+w, x:x+w] = global_hist_equ(village_gray[y:y+w, x:x+w])\n",
    "\n",
    "#-----------------PLOTTING--------------------#\n",
    "rcParams[\"figure.figsize\"] = 20.0, 20.0\n",
    "fig = plt.figure()\n",
    "\n",
    "a=fig.add_subplot(1,3,1)\n",
    "plt.imshow(village_gray, cmap=\"gray\")\n",
    "a.set_title('Original Image')\n",
    "\n",
    "a=fig.add_subplot(1,3,2)\n",
    "plt.imshow(ski_img_local, cmap=\"gray\")\n",
    "a.set_title('Ski-image Local-Hist.Equ.')\n",
    "\n",
    "a=fig.add_subplot(1,3,3)\n",
    "plt.imshow(blank_img, cmap=\"gray\")\n",
    "a.set_title('Function Local-Hist.Equ.')"
   ]
  },
  {
   "cell_type": "markdown",
   "metadata": {},
   "source": [
    "## Question 6 CLAHE\n",
    "In this part, you can use the preinstalled libraries.    \n",
    "Take a photo of your room. Make sure that the photo contains both dark and bright parts at the same time, such as inside of room and outside of the window.    \n",
    "a) Show the room photo   \n",
    "b) Plot histogram and cumulative histogram of the photo.   \n",
    "c) Apply CLAHE to your room image and show the result.  (do not forget to commit your room photo to github.)"
   ]
  },
  {
   "cell_type": "markdown",
   "metadata": {},
   "source": [
    "## Answer 6 "
   ]
  },
  {
   "cell_type": "code",
   "execution_count": null,
   "metadata": {},
   "outputs": [],
   "source": [
    "room_img = cv.imread(images_path + \"\\\\room.jpeg\")\n",
    "room_img = cv.cvtColor(room_img, cv.COLOR_BGR2GRAY)\n",
    "\n",
    "rcParams[\"figure.figsize\"] = 10.0, 10.0\n",
    "plt.figure()\n",
    "plt.title(\"Original Photo\")\n",
    "plt.imshow(room_img, cmap=\"gray\")\n",
    "\n",
    "roomClahe = cv.createCLAHE(clipLimit=2.0, tileGridSize=(8,8))\n",
    "roomOutput = roomClahe.apply(room_img)\n",
    "\n",
    "rcParams[\"figure.figsize\"] = 10.0, 10.0\n",
    "plt.figure()\n",
    "plt.title(\"Original Photo\")\n",
    "plt.imshow(roomOutput, cmap=\"gray\")\n"
   ]
  },
  {
   "cell_type": "markdown",
   "metadata": {},
   "source": [
    "### ----- END -----"
   ]
  }
 ],
 "metadata": {
  "kernelspec": {
   "display_name": "Python 3 (ipykernel)",
   "language": "python",
   "name": "python3"
  },
  "language_info": {
   "codemirror_mode": {
    "name": "ipython",
    "version": 3
   },
   "file_extension": ".py",
   "mimetype": "text/x-python",
   "name": "python",
   "nbconvert_exporter": "python",
   "pygments_lexer": "ipython3",
   "version": "3.9.12"
  },
  "vscode": {
   "interpreter": {
    "hash": "7f2b341c1fd9d7d846e1786be6db4e522be088aa01b6f1e8186c7ecfb6716ffc"
   }
  }
 },
 "nbformat": 4,
 "nbformat_minor": 4
}
